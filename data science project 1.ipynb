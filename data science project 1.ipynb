{
 "cells": [
  {
   "cell_type": "markdown",
   "id": "45ca1995",
   "metadata": {},
   "source": [
    "# Business Understanding\n",
    "\n",
    " * How many males and females, and which of them is the most numerous?\n",
    " * What are the most nationalities in this data?\n",
    " * How many students got (Low-Level, Middle-Level, High-Level)?\n",
    "\n",
    "\n",
    "\n",
    "\n",
    "\n",
    "\n",
    "\n",
    "## Design and implement machine learning model to predict a student's final grade in a particular course. \n",
    "\n",
    "## I used  Decision Tree for that.."
   ]
  },
  {
   "cell_type": "markdown",
   "id": "48fbcbd1",
   "metadata": {},
   "source": [
    "## Importing the libraries"
   ]
  },
  {
   "cell_type": "code",
   "execution_count": 162,
   "id": "dad4917f",
   "metadata": {},
   "outputs": [],
   "source": [
    "import numpy as np\n",
    "import sklearn\n",
    "import pandas as pd\n",
    "from sklearn.model_selection import train_test_split\n",
    "from sklearn.tree import DecisionTreeClassifier\n",
    "import matplotlib.pyplot as plt\n",
    "from sklearn.metrics import classification_report, accuracy_score\n"
   ]
  },
  {
   "cell_type": "markdown",
   "id": "950065b6",
   "metadata": {},
   "source": [
    "## Importing the dataset"
   ]
  },
  {
   "cell_type": "code",
   "execution_count": 163,
   "id": "19b6870a",
   "metadata": {},
   "outputs": [
    {
     "data": {
      "text/html": [
       "<div>\n",
       "<style scoped>\n",
       "    .dataframe tbody tr th:only-of-type {\n",
       "        vertical-align: middle;\n",
       "    }\n",
       "\n",
       "    .dataframe tbody tr th {\n",
       "        vertical-align: top;\n",
       "    }\n",
       "\n",
       "    .dataframe thead th {\n",
       "        text-align: right;\n",
       "    }\n",
       "</style>\n",
       "<table border=\"1\" class=\"dataframe\">\n",
       "  <thead>\n",
       "    <tr style=\"text-align: right;\">\n",
       "      <th></th>\n",
       "      <th>gender</th>\n",
       "      <th>NationalITy</th>\n",
       "      <th>PlaceofBirth</th>\n",
       "      <th>StageID</th>\n",
       "      <th>GradeID</th>\n",
       "      <th>SectionID</th>\n",
       "      <th>Topic</th>\n",
       "      <th>Semester</th>\n",
       "      <th>Relation</th>\n",
       "      <th>raisedhands</th>\n",
       "      <th>VisITedResources</th>\n",
       "      <th>AnnouncementsView</th>\n",
       "      <th>Discussion</th>\n",
       "      <th>ParentAnsweringSurvey</th>\n",
       "      <th>ParentschoolSatisfaction</th>\n",
       "      <th>StudentAbsenceDays</th>\n",
       "      <th>Class</th>\n",
       "    </tr>\n",
       "  </thead>\n",
       "  <tbody>\n",
       "    <tr>\n",
       "      <th>0</th>\n",
       "      <td>M</td>\n",
       "      <td>KW</td>\n",
       "      <td>KuwaIT</td>\n",
       "      <td>lowerlevel</td>\n",
       "      <td>G-04</td>\n",
       "      <td>A</td>\n",
       "      <td>IT</td>\n",
       "      <td>F</td>\n",
       "      <td>Father</td>\n",
       "      <td>15</td>\n",
       "      <td>16</td>\n",
       "      <td>2</td>\n",
       "      <td>20</td>\n",
       "      <td>Yes</td>\n",
       "      <td>Good</td>\n",
       "      <td>Under-7</td>\n",
       "      <td>M</td>\n",
       "    </tr>\n",
       "    <tr>\n",
       "      <th>1</th>\n",
       "      <td>M</td>\n",
       "      <td>KW</td>\n",
       "      <td>KuwaIT</td>\n",
       "      <td>lowerlevel</td>\n",
       "      <td>G-04</td>\n",
       "      <td>A</td>\n",
       "      <td>IT</td>\n",
       "      <td>F</td>\n",
       "      <td>Father</td>\n",
       "      <td>20</td>\n",
       "      <td>20</td>\n",
       "      <td>3</td>\n",
       "      <td>25</td>\n",
       "      <td>Yes</td>\n",
       "      <td>Good</td>\n",
       "      <td>Under-7</td>\n",
       "      <td>M</td>\n",
       "    </tr>\n",
       "    <tr>\n",
       "      <th>2</th>\n",
       "      <td>M</td>\n",
       "      <td>KW</td>\n",
       "      <td>KuwaIT</td>\n",
       "      <td>lowerlevel</td>\n",
       "      <td>G-04</td>\n",
       "      <td>A</td>\n",
       "      <td>IT</td>\n",
       "      <td>F</td>\n",
       "      <td>Father</td>\n",
       "      <td>10</td>\n",
       "      <td>7</td>\n",
       "      <td>0</td>\n",
       "      <td>30</td>\n",
       "      <td>No</td>\n",
       "      <td>Bad</td>\n",
       "      <td>Above-7</td>\n",
       "      <td>L</td>\n",
       "    </tr>\n",
       "    <tr>\n",
       "      <th>3</th>\n",
       "      <td>M</td>\n",
       "      <td>KW</td>\n",
       "      <td>KuwaIT</td>\n",
       "      <td>lowerlevel</td>\n",
       "      <td>G-04</td>\n",
       "      <td>A</td>\n",
       "      <td>IT</td>\n",
       "      <td>F</td>\n",
       "      <td>Father</td>\n",
       "      <td>30</td>\n",
       "      <td>25</td>\n",
       "      <td>5</td>\n",
       "      <td>35</td>\n",
       "      <td>No</td>\n",
       "      <td>Bad</td>\n",
       "      <td>Above-7</td>\n",
       "      <td>L</td>\n",
       "    </tr>\n",
       "    <tr>\n",
       "      <th>4</th>\n",
       "      <td>M</td>\n",
       "      <td>KW</td>\n",
       "      <td>KuwaIT</td>\n",
       "      <td>lowerlevel</td>\n",
       "      <td>G-04</td>\n",
       "      <td>A</td>\n",
       "      <td>IT</td>\n",
       "      <td>F</td>\n",
       "      <td>Father</td>\n",
       "      <td>40</td>\n",
       "      <td>50</td>\n",
       "      <td>12</td>\n",
       "      <td>50</td>\n",
       "      <td>No</td>\n",
       "      <td>Bad</td>\n",
       "      <td>Above-7</td>\n",
       "      <td>M</td>\n",
       "    </tr>\n",
       "  </tbody>\n",
       "</table>\n",
       "</div>"
      ],
      "text/plain": [
       "  gender NationalITy PlaceofBirth     StageID GradeID SectionID Topic  \\\n",
       "0      M          KW       KuwaIT  lowerlevel    G-04         A    IT   \n",
       "1      M          KW       KuwaIT  lowerlevel    G-04         A    IT   \n",
       "2      M          KW       KuwaIT  lowerlevel    G-04         A    IT   \n",
       "3      M          KW       KuwaIT  lowerlevel    G-04         A    IT   \n",
       "4      M          KW       KuwaIT  lowerlevel    G-04         A    IT   \n",
       "\n",
       "  Semester Relation  raisedhands  VisITedResources  AnnouncementsView  \\\n",
       "0        F   Father           15                16                  2   \n",
       "1        F   Father           20                20                  3   \n",
       "2        F   Father           10                 7                  0   \n",
       "3        F   Father           30                25                  5   \n",
       "4        F   Father           40                50                 12   \n",
       "\n",
       "   Discussion ParentAnsweringSurvey ParentschoolSatisfaction  \\\n",
       "0          20                   Yes                     Good   \n",
       "1          25                   Yes                     Good   \n",
       "2          30                    No                      Bad   \n",
       "3          35                    No                      Bad   \n",
       "4          50                    No                      Bad   \n",
       "\n",
       "  StudentAbsenceDays Class  \n",
       "0            Under-7     M  \n",
       "1            Under-7     M  \n",
       "2            Above-7     L  \n",
       "3            Above-7     L  \n",
       "4            Above-7     M  "
      ]
     },
     "execution_count": 163,
     "metadata": {},
     "output_type": "execute_result"
    }
   ],
   "source": [
    "dataset = pd.read_csv('xAPI-Edu-Data.csv')\n",
    "dataset.head()\n"
   ]
  },
  {
   "cell_type": "markdown",
   "id": "f09517e9",
   "metadata": {},
   "source": [
    "## Data cleaning"
   ]
  },
  {
   "cell_type": "markdown",
   "id": "bfb3ce71",
   "metadata": {},
   "source": [
    "### Question 1:\n",
    "\n",
    "\n",
    "\n",
    "#### How many males and females, and which of them is the most numerous?"
   ]
  },
  {
   "cell_type": "code",
   "execution_count": 164,
   "id": "4310c708",
   "metadata": {},
   "outputs": [
    {
     "data": {
      "text/plain": [
       "M    305\n",
       "F    175\n",
       "Name: gender, dtype: int64"
      ]
     },
     "execution_count": 164,
     "metadata": {},
     "output_type": "execute_result"
    }
   ],
   "source": [
    "dataset.gender.value_counts()"
   ]
  },
  {
   "cell_type": "code",
   "execution_count": 165,
   "id": "b451354c",
   "metadata": {},
   "outputs": [
    {
     "data": {
      "text/plain": [
       "<AxesSubplot:>"
      ]
     },
     "execution_count": 165,
     "metadata": {},
     "output_type": "execute_result"
    },
    {
     "data": {
      "image/png": "[encoded data removed]",
      "text/plain": [
       "<Figure size 432x288 with 1 Axes>"
      ]
     },
     "metadata": {
      "needs_background": "light"
     },
     "output_type": "display_data"
    }
   ],
   "source": [
    "(dataset.gender.value_counts()).sort_values(ascending=False).head().plot.bar(x='gender')"
   ]
  },
  {
   "cell_type": "code",
   "execution_count": 166,
   "id": "d2a7f60c",
   "metadata": {},
   "outputs": [],
   "source": [
    "# From the plot we can see that the number of males is grater then females."
   ]
  },
  {
   "cell_type": "code",
   "execution_count": 167,
   "id": "c723eea1",
   "metadata": {},
   "outputs": [],
   "source": [
    "dataset['gender'] = dataset['gender'].replace({\n",
    "   'M':1,\n",
    "   'F':2\n",
    "})"
   ]
  },
  {
   "cell_type": "code",
   "execution_count": 168,
   "id": "02ce567c",
   "metadata": {},
   "outputs": [
    {
     "data": {
      "text/plain": [
       "KW             179\n",
       "Jordan         172\n",
       "Palestine       28\n",
       "Iraq            22\n",
       "lebanon         17\n",
       "Tunis           12\n",
       "SaudiArabia     11\n",
       "Egypt            9\n",
       "Syria            7\n",
       "Iran             6\n",
       "Lybia            6\n",
       "USA              6\n",
       "Morocco          4\n",
       "venzuela         1\n",
       "Name: NationalITy, dtype: int64"
      ]
     },
     "execution_count": 168,
     "metadata": {},
     "output_type": "execute_result"
    }
   ],
   "source": [
    "dataset.NationalITy.value_counts()"
   ]
  },
  {
   "cell_type": "markdown",
   "id": "c64e5f12",
   "metadata": {},
   "source": [
    "## Question 2:\n",
    "\n",
    "\n",
    "### What are the most nationalities in this data?"
   ]
  },
  {
   "cell_type": "code",
   "execution_count": 169,
   "id": "8efd8b56",
   "metadata": {},
   "outputs": [
    {
     "data": {
      "text/plain": [
       "KW           179\n",
       "Jordan       172\n",
       "Palestine     28\n",
       "Iraq          22\n",
       "lebanon       17\n",
       "Name: NationalITy, dtype: int64"
      ]
     },
     "execution_count": 169,
     "metadata": {},
     "output_type": "execute_result"
    }
   ],
   "source": [
    "(dataset.NationalITy.value_counts()).sort_values(ascending=False).head()"
   ]
  },
  {
   "cell_type": "code",
   "execution_count": 170,
   "id": "96ebd7cd",
   "metadata": {},
   "outputs": [
    {
     "data": {
      "text/plain": [
       "<AxesSubplot:>"
      ]
     },
     "execution_count": 170,
     "metadata": {},
     "output_type": "execute_result"
    },
    {
     "data": {
      "image/png": "[encoded data removed]",
      "text/plain": [
       "<Figure size 432x288 with 1 Axes>"
      ]
     },
     "metadata": {
      "needs_background": "light"
     },
     "output_type": "display_data"
    }
   ],
   "source": [
    "(dataset.NationalITy.value_counts()).sort_values(ascending=False).head().plot.bar(x='NationalITy')"
   ]
  },
  {
   "cell_type": "code",
   "execution_count": 171,
   "id": "d34f5150",
   "metadata": {},
   "outputs": [],
   "source": [
    "# From the plot shows the number of students by nationalities"
   ]
  },
  {
   "cell_type": "code",
   "execution_count": 172,
   "id": "75046768",
   "metadata": {},
   "outputs": [],
   "source": [
    "dataset['NationalITy'] = dataset['NationalITy'].replace({\n",
    "    'KW':1,\n",
    "    'Jordan':2,\n",
    "    'Palestine':3,\n",
    "    'Iraq':4,\n",
    "    'lebanon':5,\n",
    "    'Tunis':6,\n",
    "    'SaudiArabia':7,\n",
    "    'Egypt':8,\n",
    "    'Syria':9,\n",
    "    'USA':10,\n",
    "    'Iran':11,\n",
    "    'Lybia':12,\n",
    "    'Morocco':13,\n",
    "    'venzuela':14\n",
    "    \n",
    "})"
   ]
  },
  {
   "cell_type": "code",
   "execution_count": 173,
   "id": "875e5f5f",
   "metadata": {},
   "outputs": [
    {
     "data": {
      "text/plain": [
       "KuwaIT         180\n",
       "Jordan         176\n",
       "Iraq            22\n",
       "lebanon         19\n",
       "SaudiArabia     16\n",
       "USA             16\n",
       "Palestine       10\n",
       "Egypt            9\n",
       "Tunis            9\n",
       "Iran             6\n",
       "Syria            6\n",
       "Lybia            6\n",
       "Morocco          4\n",
       "venzuela         1\n",
       "Name: PlaceofBirth, dtype: int64"
      ]
     },
     "execution_count": 173,
     "metadata": {},
     "output_type": "execute_result"
    }
   ],
   "source": [
    "dataset.PlaceofBirth.value_counts()"
   ]
  },
  {
   "cell_type": "code",
   "execution_count": 174,
   "id": "cfce1d69",
   "metadata": {},
   "outputs": [],
   "source": [
    "dataset['PlaceofBirth'] = dataset['PlaceofBirth'].replace({\n",
    "    'KuwaIT':1,\n",
    "    'Jordan':2,\n",
    "    'Iraq':3,\n",
    "    'lebanon':4,\n",
    "    'USA':5,\n",
    "    'SaudiArabia':6,\n",
    "    'Palestine':7,\n",
    "    'Egypt':8,\n",
    "    'Tunis':9,\n",
    "    'Iran':10,\n",
    "    'Syria':11,\n",
    "    'Lybia':12,\n",
    "    'Morocco':13,\n",
    "    'venzuela':14\n",
    "    \n",
    "})"
   ]
  },
  {
   "cell_type": "code",
   "execution_count": 175,
   "id": "dfb62ec8",
   "metadata": {},
   "outputs": [
    {
     "data": {
      "text/plain": [
       "MiddleSchool    248\n",
       "lowerlevel      199\n",
       "HighSchool       33\n",
       "Name: StageID, dtype: int64"
      ]
     },
     "execution_count": 175,
     "metadata": {},
     "output_type": "execute_result"
    }
   ],
   "source": [
    "dataset.StageID.value_counts()"
   ]
  },
  {
   "cell_type": "code",
   "execution_count": 176,
   "id": "b96ae45a",
   "metadata": {},
   "outputs": [],
   "source": [
    "dataset['StageID'] = dataset['StageID'].replace({\n",
    "    'MiddleSchool':1,\n",
    "    'lowerlevel':2,\n",
    "    'HighSchool':3  \n",
    "})"
   ]
  },
  {
   "cell_type": "code",
   "execution_count": 177,
   "id": "0d23598f",
   "metadata": {},
   "outputs": [
    {
     "data": {
      "text/plain": [
       "G-02    147\n",
       "G-08    116\n",
       "G-07    101\n",
       "G-04     48\n",
       "G-06     32\n",
       "G-11     13\n",
       "G-12     11\n",
       "G-09      5\n",
       "G-10      4\n",
       "G-05      3\n",
       "Name: GradeID, dtype: int64"
      ]
     },
     "execution_count": 177,
     "metadata": {},
     "output_type": "execute_result"
    }
   ],
   "source": [
    "dataset.GradeID.value_counts()"
   ]
  },
  {
   "cell_type": "code",
   "execution_count": 178,
   "id": "6ac425af",
   "metadata": {},
   "outputs": [],
   "source": [
    "dataset['GradeID'] = dataset['GradeID'].replace({\n",
    "    'G-02':2,\n",
    "    'G-08':8,\n",
    "    'G-07':7,\n",
    "    'G-04':4,\n",
    "    'G-06':6,\n",
    "    'G-11':11,\n",
    "    'G-12':12,\n",
    "    'G-09':9,\n",
    "    'G-10':10,\n",
    "    'G-05':5\n",
    "    \n",
    "})"
   ]
  },
  {
   "cell_type": "code",
   "execution_count": 179,
   "id": "b1464d73",
   "metadata": {},
   "outputs": [
    {
     "data": {
      "text/plain": [
       "A    283\n",
       "B    167\n",
       "C     30\n",
       "Name: SectionID, dtype: int64"
      ]
     },
     "execution_count": 179,
     "metadata": {},
     "output_type": "execute_result"
    }
   ],
   "source": [
    "dataset.SectionID.value_counts()"
   ]
  },
  {
   "cell_type": "code",
   "execution_count": 180,
   "id": "cb17a740",
   "metadata": {},
   "outputs": [],
   "source": [
    "dataset['SectionID'] = dataset['SectionID'].replace({\n",
    "    'A':1,\n",
    "    'B':2,\n",
    "    'C':3    \n",
    "})"
   ]
  },
  {
   "cell_type": "code",
   "execution_count": 181,
   "id": "6918ef0f",
   "metadata": {},
   "outputs": [
    {
     "data": {
      "text/plain": [
       "IT           95\n",
       "French       65\n",
       "Arabic       59\n",
       "Science      51\n",
       "English      45\n",
       "Biology      30\n",
       "Spanish      25\n",
       "Chemistry    24\n",
       "Geology      24\n",
       "Quran        22\n",
       "Math         21\n",
       "History      19\n",
       "Name: Topic, dtype: int64"
      ]
     },
     "execution_count": 181,
     "metadata": {},
     "output_type": "execute_result"
    }
   ],
   "source": [
    "dataset.Topic.value_counts()"
   ]
  },
  {
   "cell_type": "code",
   "execution_count": 182,
   "id": "36002a03",
   "metadata": {},
   "outputs": [],
   "source": [
    "dataset['Topic'] = dataset['Topic'].replace({\n",
    "    'IT':1,\n",
    "    'French':2,\n",
    "    'Arabic':3,\n",
    "    'Science':4,\n",
    "    'English':5,\n",
    "    'Biology':6,\n",
    "    'Spanish':7,\n",
    "    'Chemistry':8,\n",
    "    'Geology':9,\n",
    "    'Quran':10,\n",
    "    'Math':11,\n",
    "    'History':12    \n",
    "})"
   ]
  },
  {
   "cell_type": "code",
   "execution_count": 183,
   "id": "6e6db7de",
   "metadata": {},
   "outputs": [
    {
     "data": {
      "text/plain": [
       "F    245\n",
       "S    235\n",
       "Name: Semester, dtype: int64"
      ]
     },
     "execution_count": 183,
     "metadata": {},
     "output_type": "execute_result"
    }
   ],
   "source": [
    "dataset.Semester.value_counts()"
   ]
  },
  {
   "cell_type": "code",
   "execution_count": 184,
   "id": "4fffcb0e",
   "metadata": {},
   "outputs": [],
   "source": [
    "dataset['Semester'] = dataset['Semester'].replace({\n",
    "    'F':1,\n",
    "    'S':2    \n",
    "})"
   ]
  },
  {
   "cell_type": "code",
   "execution_count": 185,
   "id": "09a62da4",
   "metadata": {},
   "outputs": [
    {
     "data": {
      "text/plain": [
       "Father    283\n",
       "Mum       197\n",
       "Name: Relation, dtype: int64"
      ]
     },
     "execution_count": 185,
     "metadata": {},
     "output_type": "execute_result"
    }
   ],
   "source": [
    "dataset.Relation.value_counts()"
   ]
  },
  {
   "cell_type": "code",
   "execution_count": 186,
   "id": "69ee78cb",
   "metadata": {},
   "outputs": [],
   "source": [
    "dataset['Relation'] = dataset['Relation'].replace({\n",
    "    'Father':1,\n",
    "    'Mum':2  \n",
    "})"
   ]
  },
  {
   "cell_type": "code",
   "execution_count": 187,
   "id": "ca8d990f",
   "metadata": {},
   "outputs": [
    {
     "data": {
      "text/plain": [
       "10    31\n",
       "70    31\n",
       "80    28\n",
       "72    17\n",
       "50    17\n",
       "      ..\n",
       "61     1\n",
       "73     1\n",
       "66     1\n",
       "28     1\n",
       "83     1\n",
       "Name: raisedhands, Length: 82, dtype: int64"
      ]
     },
     "execution_count": 187,
     "metadata": {},
     "output_type": "execute_result"
    }
   ],
   "source": [
    "dataset.raisedhands.value_counts()"
   ]
  },
  {
   "cell_type": "code",
   "execution_count": null,
   "id": "9ec77af0",
   "metadata": {},
   "outputs": [],
   "source": []
  },
  {
   "cell_type": "code",
   "execution_count": 188,
   "id": "a96371b9",
   "metadata": {},
   "outputs": [
    {
     "data": {
      "text/plain": [
       "90    29\n",
       "80    29\n",
       "82    16\n",
       "88    13\n",
       "12    13\n",
       "      ..\n",
       "54     1\n",
       "63     1\n",
       "55     1\n",
       "57     1\n",
       "43     1\n",
       "Name: VisITedResources, Length: 89, dtype: int64"
      ]
     },
     "execution_count": 188,
     "metadata": {},
     "output_type": "execute_result"
    }
   ],
   "source": [
    "dataset.VisITedResources.value_counts()"
   ]
  },
  {
   "cell_type": "code",
   "execution_count": null,
   "id": "749ea0af",
   "metadata": {},
   "outputs": [],
   "source": []
  },
  {
   "cell_type": "code",
   "execution_count": 189,
   "id": "ba8fd4e7",
   "metadata": {},
   "outputs": [
    {
     "data": {
      "text/plain": [
       "12    21\n",
       "50    16\n",
       "42    16\n",
       "40    16\n",
       "2     14\n",
       "      ..\n",
       "43     1\n",
       "78     1\n",
       "75     1\n",
       "60     1\n",
       "45     1\n",
       "Name: AnnouncementsView, Length: 88, dtype: int64"
      ]
     },
     "execution_count": 189,
     "metadata": {},
     "output_type": "execute_result"
    }
   ],
   "source": [
    "dataset.AnnouncementsView.value_counts()"
   ]
  },
  {
   "cell_type": "code",
   "execution_count": null,
   "id": "b0ee97e6",
   "metadata": {},
   "outputs": [],
   "source": []
  },
  {
   "cell_type": "code",
   "execution_count": 190,
   "id": "64da3011",
   "metadata": {},
   "outputs": [
    {
     "data": {
      "text/plain": [
       "70    24\n",
       "40    23\n",
       "33    21\n",
       "50    18\n",
       "30    17\n",
       "      ..\n",
       "65     1\n",
       "64     1\n",
       "62     1\n",
       "57     1\n",
       "99     1\n",
       "Name: Discussion, Length: 90, dtype: int64"
      ]
     },
     "execution_count": 190,
     "metadata": {},
     "output_type": "execute_result"
    }
   ],
   "source": [
    "dataset.Discussion.value_counts()"
   ]
  },
  {
   "cell_type": "code",
   "execution_count": null,
   "id": "6d57810d",
   "metadata": {},
   "outputs": [],
   "source": []
  },
  {
   "cell_type": "code",
   "execution_count": 191,
   "id": "c00ad2eb",
   "metadata": {},
   "outputs": [
    {
     "data": {
      "text/plain": [
       "Yes    270\n",
       "No     210\n",
       "Name: ParentAnsweringSurvey, dtype: int64"
      ]
     },
     "execution_count": 191,
     "metadata": {},
     "output_type": "execute_result"
    }
   ],
   "source": [
    "dataset.ParentAnsweringSurvey.value_counts()"
   ]
  },
  {
   "cell_type": "code",
   "execution_count": 192,
   "id": "c933fe6b",
   "metadata": {},
   "outputs": [],
   "source": [
    "dataset['ParentAnsweringSurvey'] = dataset['ParentAnsweringSurvey'].replace({\n",
    "    'Yes':1,\n",
    "    'No':2    \n",
    "})"
   ]
  },
  {
   "cell_type": "code",
   "execution_count": 193,
   "id": "699c5528",
   "metadata": {},
   "outputs": [
    {
     "data": {
      "text/plain": [
       "Good    292\n",
       "Bad     188\n",
       "Name: ParentschoolSatisfaction, dtype: int64"
      ]
     },
     "execution_count": 193,
     "metadata": {},
     "output_type": "execute_result"
    }
   ],
   "source": [
    "dataset.ParentschoolSatisfaction.value_counts()"
   ]
  },
  {
   "cell_type": "code",
   "execution_count": 194,
   "id": "8755f3b3",
   "metadata": {},
   "outputs": [],
   "source": [
    "dataset['ParentschoolSatisfaction'] = dataset['ParentschoolSatisfaction'].replace({\n",
    "    'Good':1,\n",
    "    'Bad':2\n",
    "})"
   ]
  },
  {
   "cell_type": "code",
   "execution_count": 195,
   "id": "3becd37a",
   "metadata": {},
   "outputs": [
    {
     "data": {
      "text/plain": [
       "Under-7    289\n",
       "Above-7    191\n",
       "Name: StudentAbsenceDays, dtype: int64"
      ]
     },
     "execution_count": 195,
     "metadata": {},
     "output_type": "execute_result"
    }
   ],
   "source": [
    "dataset.StudentAbsenceDays.value_counts()"
   ]
  },
  {
   "cell_type": "code",
   "execution_count": 196,
   "id": "39c7a833",
   "metadata": {},
   "outputs": [],
   "source": [
    "dataset['StudentAbsenceDays'] = dataset['StudentAbsenceDays'].replace({\n",
    "    'Under-7':1,\n",
    "    'Above-7':2\n",
    "})"
   ]
  },
  {
   "cell_type": "code",
   "execution_count": 197,
   "id": "13dacba5",
   "metadata": {},
   "outputs": [
    {
     "data": {
      "text/html": [
       "<div>\n",
       "<style scoped>\n",
       "    .dataframe tbody tr th:only-of-type {\n",
       "        vertical-align: middle;\n",
       "    }\n",
       "\n",
       "    .dataframe tbody tr th {\n",
       "        vertical-align: top;\n",
       "    }\n",
       "\n",
       "    .dataframe thead th {\n",
       "        text-align: right;\n",
       "    }\n",
       "</style>\n",
       "<table border=\"1\" class=\"dataframe\">\n",
       "  <thead>\n",
       "    <tr style=\"text-align: right;\">\n",
       "      <th></th>\n",
       "      <th>gender</th>\n",
       "      <th>NationalITy</th>\n",
       "      <th>PlaceofBirth</th>\n",
       "      <th>StageID</th>\n",
       "      <th>GradeID</th>\n",
       "      <th>SectionID</th>\n",
       "      <th>Topic</th>\n",
       "      <th>Semester</th>\n",
       "      <th>Relation</th>\n",
       "      <th>raisedhands</th>\n",
       "      <th>VisITedResources</th>\n",
       "      <th>AnnouncementsView</th>\n",
       "      <th>Discussion</th>\n",
       "      <th>ParentAnsweringSurvey</th>\n",
       "      <th>ParentschoolSatisfaction</th>\n",
       "      <th>StudentAbsenceDays</th>\n",
       "      <th>Class</th>\n",
       "    </tr>\n",
       "  </thead>\n",
       "  <tbody>\n",
       "    <tr>\n",
       "      <th>0</th>\n",
       "      <td>1</td>\n",
       "      <td>1</td>\n",
       "      <td>1</td>\n",
       "      <td>2</td>\n",
       "      <td>4</td>\n",
       "      <td>1</td>\n",
       "      <td>1</td>\n",
       "      <td>1</td>\n",
       "      <td>1</td>\n",
       "      <td>15</td>\n",
       "      <td>16</td>\n",
       "      <td>2</td>\n",
       "      <td>20</td>\n",
       "      <td>1</td>\n",
       "      <td>1</td>\n",
       "      <td>1</td>\n",
       "      <td>M</td>\n",
       "    </tr>\n",
       "    <tr>\n",
       "      <th>1</th>\n",
       "      <td>1</td>\n",
       "      <td>1</td>\n",
       "      <td>1</td>\n",
       "      <td>2</td>\n",
       "      <td>4</td>\n",
       "      <td>1</td>\n",
       "      <td>1</td>\n",
       "      <td>1</td>\n",
       "      <td>1</td>\n",
       "      <td>20</td>\n",
       "      <td>20</td>\n",
       "      <td>3</td>\n",
       "      <td>25</td>\n",
       "      <td>1</td>\n",
       "      <td>1</td>\n",
       "      <td>1</td>\n",
       "      <td>M</td>\n",
       "    </tr>\n",
       "    <tr>\n",
       "      <th>2</th>\n",
       "      <td>1</td>\n",
       "      <td>1</td>\n",
       "      <td>1</td>\n",
       "      <td>2</td>\n",
       "      <td>4</td>\n",
       "      <td>1</td>\n",
       "      <td>1</td>\n",
       "      <td>1</td>\n",
       "      <td>1</td>\n",
       "      <td>10</td>\n",
       "      <td>7</td>\n",
       "      <td>0</td>\n",
       "      <td>30</td>\n",
       "      <td>2</td>\n",
       "      <td>2</td>\n",
       "      <td>2</td>\n",
       "      <td>L</td>\n",
       "    </tr>\n",
       "    <tr>\n",
       "      <th>3</th>\n",
       "      <td>1</td>\n",
       "      <td>1</td>\n",
       "      <td>1</td>\n",
       "      <td>2</td>\n",
       "      <td>4</td>\n",
       "      <td>1</td>\n",
       "      <td>1</td>\n",
       "      <td>1</td>\n",
       "      <td>1</td>\n",
       "      <td>30</td>\n",
       "      <td>25</td>\n",
       "      <td>5</td>\n",
       "      <td>35</td>\n",
       "      <td>2</td>\n",
       "      <td>2</td>\n",
       "      <td>2</td>\n",
       "      <td>L</td>\n",
       "    </tr>\n",
       "    <tr>\n",
       "      <th>4</th>\n",
       "      <td>1</td>\n",
       "      <td>1</td>\n",
       "      <td>1</td>\n",
       "      <td>2</td>\n",
       "      <td>4</td>\n",
       "      <td>1</td>\n",
       "      <td>1</td>\n",
       "      <td>1</td>\n",
       "      <td>1</td>\n",
       "      <td>40</td>\n",
       "      <td>50</td>\n",
       "      <td>12</td>\n",
       "      <td>50</td>\n",
       "      <td>2</td>\n",
       "      <td>2</td>\n",
       "      <td>2</td>\n",
       "      <td>M</td>\n",
       "    </tr>\n",
       "  </tbody>\n",
       "</table>\n",
       "</div>"
      ],
      "text/plain": [
       "   gender  NationalITy  PlaceofBirth  StageID  GradeID  SectionID  Topic  \\\n",
       "0       1            1             1        2        4          1      1   \n",
       "1       1            1             1        2        4          1      1   \n",
       "2       1            1             1        2        4          1      1   \n",
       "3       1            1             1        2        4          1      1   \n",
       "4       1            1             1        2        4          1      1   \n",
       "\n",
       "   Semester  Relation  raisedhands  VisITedResources  AnnouncementsView  \\\n",
       "0         1         1           15                16                  2   \n",
       "1         1         1           20                20                  3   \n",
       "2         1         1           10                 7                  0   \n",
       "3         1         1           30                25                  5   \n",
       "4         1         1           40                50                 12   \n",
       "\n",
       "   Discussion  ParentAnsweringSurvey  ParentschoolSatisfaction  \\\n",
       "0          20                      1                         1   \n",
       "1          25                      1                         1   \n",
       "2          30                      2                         2   \n",
       "3          35                      2                         2   \n",
       "4          50                      2                         2   \n",
       "\n",
       "   StudentAbsenceDays Class  \n",
       "0                   1     M  \n",
       "1                   1     M  \n",
       "2                   2     L  \n",
       "3                   2     L  \n",
       "4                   2     M  "
      ]
     },
     "execution_count": 197,
     "metadata": {},
     "output_type": "execute_result"
    }
   ],
   "source": [
    "dataset.head()\n"
   ]
  },
  {
   "cell_type": "markdown",
   "id": "21f4559d",
   "metadata": {},
   "source": [
    "### Question 3:\n",
    "\n",
    "\n",
    "\n",
    "### How many students got (Low-Level, Middle-Level, High-Level)?\n",
    "\n",
    "### ------------------------------------------------------------------\n",
    "##### Low-Level (L): interval includes values from 0 to 69\n",
    "##### Middle-Level (M): interval includes values from 70 to 89\n",
    "##### High-Level (H): interval includes values from 90-100"
   ]
  },
  {
   "cell_type": "code",
   "execution_count": 198,
   "id": "4321a7ed",
   "metadata": {},
   "outputs": [
    {
     "data": {
      "text/plain": [
       "M    211\n",
       "H    142\n",
       "L    127\n",
       "Name: Class, dtype: int64"
      ]
     },
     "execution_count": 198,
     "metadata": {},
     "output_type": "execute_result"
    }
   ],
   "source": [
    "dataset.Class.value_counts()"
   ]
  },
  {
   "cell_type": "code",
   "execution_count": 199,
   "id": "8eb132ee",
   "metadata": {},
   "outputs": [
    {
     "data": {
      "text/plain": [
       "<AxesSubplot:>"
      ]
     },
     "execution_count": 199,
     "metadata": {},
     "output_type": "execute_result"
    },
    {
     "data": {
      "image/png": "[encoded data removed]",
      "text/plain": [
       "<Figure size 432x288 with 1 Axes>"
      ]
     },
     "metadata": {
      "needs_background": "light"
     },
     "output_type": "display_data"
    }
   ],
   "source": [
    "(dataset.Class.value_counts()).sort_values(ascending=False).head().plot.bar(x='Class')"
   ]
  },
  {
   "cell_type": "code",
   "execution_count": 200,
   "id": "b8b1d233",
   "metadata": {},
   "outputs": [],
   "source": [
    "# From the plot shows us the number of students who got in total grades (Low-Level, Middle-Level, High-Level)\n",
    "\n",
    "# Low-Level (L): interval includes values from 0 to 69\n",
    "# Middle-Level (M): interval includes values from 70 to 89\n",
    "# High-Level (H): interval includes values from 90–100"
   ]
  },
  {
   "cell_type": "code",
   "execution_count": 201,
   "id": "2e9d8252",
   "metadata": {},
   "outputs": [
    {
     "data": {
      "text/plain": [
       "array([[1, 1, 1, ..., 1, 1, 1],\n",
       "       [1, 1, 1, ..., 1, 1, 1],\n",
       "       [1, 1, 1, ..., 2, 2, 2],\n",
       "       ...,\n",
       "       [2, 2, 2, ..., 2, 2, 1],\n",
       "       [2, 2, 2, ..., 2, 2, 2],\n",
       "       [2, 2, 2, ..., 2, 2, 2]], dtype=int64)"
      ]
     },
     "execution_count": 201,
     "metadata": {},
     "output_type": "execute_result"
    }
   ],
   "source": [
    "x_df = dataset.drop('Class', axis=1).values\n",
    "y_df = dataset['Class'].values\n",
    "x_df"
   ]
  },
  {
   "cell_type": "markdown",
   "id": "3dda67d0",
   "metadata": {},
   "source": [
    "## Splitting the dataset into the Training set and Test set"
   ]
  },
  {
   "cell_type": "code",
   "execution_count": 202,
   "id": "66ded27b",
   "metadata": {},
   "outputs": [],
   "source": [
    "X_train, X_test, y_train, y_test = train_test_split(x_df, y_df ,test_size = 0.2, random_state = 0)"
   ]
  },
  {
   "cell_type": "code",
   "execution_count": 203,
   "id": "afd5e7dc",
   "metadata": {},
   "outputs": [],
   "source": [
    "#predection=model.predict(X_test)\n",
    "#predection"
   ]
  },
  {
   "cell_type": "code",
   "execution_count": 204,
   "id": "66b19492",
   "metadata": {},
   "outputs": [],
   "source": [
    "sample=[[1,1,1,1,4,1,1,1,1,15,16,2,20,1,1,1]]"
   ]
  },
  {
   "cell_type": "code",
   "execution_count": 205,
   "id": "7ca7391b",
   "metadata": {},
   "outputs": [
    {
     "name": "stdout",
     "output_type": "stream",
     "text": [
      "['M' 'L' 'L' 'M' 'H' 'M' 'H' 'L' 'L' 'M' 'H' 'M' 'M' 'L' 'H' 'M' 'M' 'L'\n",
      " 'M' 'H' 'L' 'M' 'M' 'M' 'M' 'H' 'M' 'M' 'M' 'L' 'M' 'L' 'H' 'M' 'M' 'M'\n",
      " 'H' 'H' 'M' 'M' 'H' 'L' 'M' 'H' 'H' 'M' 'M' 'M' 'M' 'L' 'M' 'H' 'H' 'L'\n",
      " 'H' 'H' 'L' 'L' 'M' 'M' 'M' 'M' 'H' 'H' 'H' 'M' 'M' 'M' 'L' 'L' 'L' 'L'\n",
      " 'M' 'L' 'H' 'M' 'M' 'L' 'M' 'L' 'M' 'M' 'H' 'L' 'L' 'H' 'M' 'H' 'M' 'H'\n",
      " 'M' 'H' 'H' 'H' 'M' 'H']\n"
     ]
    }
   ],
   "source": [
    "print(y_test)"
   ]
  },
  {
   "cell_type": "markdown",
   "id": "15c0167f",
   "metadata": {},
   "source": [
    "## Training the Decision Tree model on the Training set"
   ]
  },
  {
   "cell_type": "code",
   "execution_count": 206,
   "id": "1ad27dfe",
   "metadata": {},
   "outputs": [],
   "source": [
    "decision_tree = DecisionTreeClassifier(random_state=0, max_depth=None)\n",
    "decision_tree = decision_tree.fit(X_train, y_train)"
   ]
  },
  {
   "cell_type": "markdown",
   "id": "6cabf28c",
   "metadata": {},
   "source": [
    "## Predicting the Test set results and display the:\n",
    "* Classification accuracy \n",
    "* F1 Score"
   ]
  },
  {
   "cell_type": "code",
   "execution_count": 207,
   "id": "533afb4d",
   "metadata": {},
   "outputs": [],
   "source": [
    "predection1 = decision_tree.predict(X_test)\n",
    "ac = accuracy_score(y_test,predection1)\n",
    "clr = classification_report(y_test,predection1)"
   ]
  },
  {
   "cell_type": "code",
   "execution_count": 208,
   "id": "b6db75c8",
   "metadata": {},
   "outputs": [
    {
     "name": "stdout",
     "output_type": "stream",
     "text": [
      "['M' 'L' 'L' 'M' 'M' 'H' 'H' 'L' 'L' 'L' 'H' 'L' 'H' 'L' 'M' 'M' 'H' 'L'\n",
      " 'M' 'H' 'L' 'M' 'M' 'M' 'M' 'H' 'H' 'M' 'M' 'L' 'M' 'L' 'H' 'M' 'M' 'M'\n",
      " 'H' 'H' 'M' 'M' 'M' 'L' 'H' 'H' 'M' 'M' 'H' 'H' 'L' 'L' 'M' 'L' 'H' 'L'\n",
      " 'H' 'H' 'L' 'L' 'M' 'M' 'M' 'H' 'H' 'H' 'M' 'M' 'L' 'H' 'L' 'L' 'L' 'L'\n",
      " 'M' 'L' 'H' 'M' 'M' 'L' 'L' 'M' 'H' 'M' 'M' 'L' 'L' 'H' 'M' 'H' 'M' 'H'\n",
      " 'M' 'H' 'H' 'H' 'M' 'H']\n"
     ]
    }
   ],
   "source": [
    "print(predection1)"
   ]
  },
  {
   "cell_type": "code",
   "execution_count": 209,
   "id": "3114e9f1",
   "metadata": {},
   "outputs": [
    {
     "name": "stdout",
     "output_type": "stream",
     "text": [
      "['M']\n"
     ]
    }
   ],
   "source": [
    "predection2 = decision_tree.predict(sample)\n",
    "print(predection2)"
   ]
  },
  {
   "cell_type": "code",
   "execution_count": 210,
   "id": "0a93abd4",
   "metadata": {},
   "outputs": [
    {
     "name": "stdout",
     "output_type": "stream",
     "text": [
      "0.7604166666666666\n"
     ]
    }
   ],
   "source": [
    "print(ac)"
   ]
  },
  {
   "cell_type": "code",
   "execution_count": 211,
   "id": "3e0cc2bd",
   "metadata": {},
   "outputs": [
    {
     "name": "stdout",
     "output_type": "stream",
     "text": [
      "              precision    recall  f1-score   support\n",
      "\n",
      "           H       0.68      0.75      0.71        28\n",
      "           L       0.79      0.96      0.86        23\n",
      "           M       0.81      0.67      0.73        45\n",
      "\n",
      "    accuracy                           0.76        96\n",
      "   macro avg       0.76      0.79      0.77        96\n",
      "weighted avg       0.77      0.76      0.76        96\n",
      "\n"
     ]
    }
   ],
   "source": [
    "print(clr)"
   ]
  },
  {
   "cell_type": "markdown",
   "id": "64918b9d",
   "metadata": {},
   "source": [
    "# Conclusion:\n",
    "\n",
    "## In this project, we were able to answer 3 questions and created a model that predicts students' grades."
   ]
  },
  {
   "cell_type": "code",
   "execution_count": 212,
   "id": "6fa5d171",
   "metadata": {},
   "outputs": [],
   "source": [
    "#export the dataframe to csv file:"
   ]
  },
  {
   "cell_type": "code",
   "execution_count": 213,
   "id": "9f417d35",
   "metadata": {},
   "outputs": [],
   "source": [
    "dataset.to_csv('students dataset.csv')"
   ]
  },
  {
   "cell_type": "code",
   "execution_count": null,
   "id": "b10df640",
   "metadata": {},
   "outputs": [],
   "source": []
  },
  {
   "cell_type": "code",
   "execution_count": null,
   "id": "78b0a401",
   "metadata": {},
   "outputs": [],
   "source": []
  }
 ],
 "metadata": {
  "kernelspec": {
   "display_name": "Python 3",
   "language": "python",
   "name": "python3"
  },
  "language_info": {
   "codemirror_mode": {
    "name": "ipython",
    "version": 3
   },
   "file_extension": ".py",
   "mimetype": "text/x-python",
   "name": "python",
   "nbconvert_exporter": "python",
   "pygments_lexer": "ipython3",
   "version": "3.8.8"
  }
 },
 "nbformat": 4,
 "nbformat_minor": 5
}
